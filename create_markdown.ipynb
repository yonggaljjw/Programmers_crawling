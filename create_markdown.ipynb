{
 "cells": [
  {
   "cell_type": "code",
   "execution_count": 1,
   "id": "ab1d473f-4508-4d83-b598-f676f1357399",
   "metadata": {},
   "outputs": [],
   "source": [
    "import string\n",
    "import time, re\n",
    "import pandas as pd\n",
    "import requests\n",
    "import sys\n",
    "from tqdm import tqdm\n",
    "from bs4 import BeautifulSoup\n",
    "from markdownify import MarkdownConverter as MarkdownifyConverter\n",
    "\n",
    "from selenium import webdriver\n",
    "from selenium.webdriver.common.by import By\n",
    "from selenium.webdriver.common.keys import Keys\n",
    "from selenium.webdriver.chrome.service import Service\n",
    "from selenium.webdriver.chrome.options import Options\n",
    "from selenium.webdriver.common.action_chains import ActionChains\n",
    "from webdriver_manager.chrome import ChromeDriverManager\n",
    "from selenium.webdriver.support.ui import WebDriverWait\n",
    "from selenium.webdriver.support import expected_conditions as EC\n",
    "\n",
    "import warnings\n",
    "warnings.filterwarnings('ignore')"
   ]
  },
  {
   "cell_type": "code",
   "execution_count": 2,
   "id": "93ea85fe-3bcc-48d4-b2f7-2b9eff2bdbdc",
   "metadata": {},
   "outputs": [],
   "source": [
    "options = webdriver.ChromeOptions() \n",
    "options.add_argument(\"--start-maximized\");  # Chrome 브라우저 최대화 설정\n",
    "options.add_argument('--headless')  # headless 모드\n",
    "options.add_argument('--disable-gpu')  # 그래픽 가속 해제 (오류 방지)\n",
    "options.add_argument('--mute-audio')  # 음소거모드 적용\n",
    "options.add_experimental_option(\"excludeSwitches\", [\"enable-automation\"])\n",
    "options.add_experimental_option(\"useAutomationExtension\", False)"
   ]
  },
  {
   "cell_type": "code",
   "execution_count": 7,
   "id": "51182910-9956-46e7-bb43-5a190de63e06",
   "metadata": {},
   "outputs": [
    {
     "name": "stdin",
     "output_type": "stream",
     "text": [
      "레벨을 기입해주세요 3\n",
      "언어를 선택해주세요 mysql\n"
     ]
    }
   ],
   "source": [
    "level = int(input('레벨을 기입해주세요'))\n",
    "language = input('언어를 선택해주세요')\n",
    "MAX_CONTENT = 20"
   ]
  },
  {
   "cell_type": "code",
   "execution_count": 9,
   "id": "0b3c4aa1-fe9f-48a0-a158-a2a918c695db",
   "metadata": {},
   "outputs": [],
   "source": [
    "driver = webdriver.Chrome(service = Service(ChromeDriverManager().install()), options = options)\n",
    "page_cnt = 1\n",
    "links = []\n",
    "try :\n",
    "    while True :\n",
    "        li = []\n",
    "        driver.get(f\"https://school.programmers.co.kr/learn/challenges?order=recent&levels={level}&languages={language}&page={page_cnt}\")\n",
    "        time.sleep(1)\n",
    "        \n",
    "        for i in range(1,MAX_CONTENT+1) :\n",
    "            try :\n",
    "                \n",
    "                selector = f'//*[@id=\"edu-service-app-main\"]/div/div[2]/article/div[2]/div[1]/div[5]/div/table/tbody/tr[{i}]/td[2]/div/a'\n",
    "                link_element = driver.find_element(By.XPATH, selector)\n",
    "                link = link_element.get_attribute('href')\n",
    "                li.append(link)\n",
    "            \n",
    "            except :\n",
    "                break\n",
    "        links.extend(li)\n",
    "        \n",
    "        if len(li) < MAX_CONTENT :\n",
    "            break\n",
    "                \n",
    "        page_cnt += 1\n",
    "except :\n",
    "    print(\"페이지가 존재하지 않습니다\")"
   ]
  },
  {
   "cell_type": "code",
   "execution_count": 10,
   "id": "2905f232-c402-4f1a-ad77-2afaba70996a",
   "metadata": {},
   "outputs": [],
   "source": [
    "import subprocess\n",
    "\n",
    "# 각 URL에 대해 crawling.py 실행\n",
    "for url in links:\n",
    "    command = f'python crawling.py {url}'\n",
    "    result = subprocess.run(command, shell=True, capture_output=True, text=True)"
   ]
  },
  {
   "cell_type": "code",
   "execution_count": null,
   "id": "7485aa8b-02b2-456f-926d-d6da4ed00468",
   "metadata": {},
   "outputs": [],
   "source": []
  }
 ],
 "metadata": {
  "kernelspec": {
   "display_name": "Python 3 (ipykernel)",
   "language": "python",
   "name": "python3"
  },
  "language_info": {
   "codemirror_mode": {
    "name": "ipython",
    "version": 3
   },
   "file_extension": ".py",
   "mimetype": "text/x-python",
   "name": "python",
   "nbconvert_exporter": "python",
   "pygments_lexer": "ipython3",
   "version": "3.12.4"
  }
 },
 "nbformat": 4,
 "nbformat_minor": 5
}
