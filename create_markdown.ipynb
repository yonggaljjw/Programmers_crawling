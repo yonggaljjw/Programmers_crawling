{
 "cells": [
  {
   "cell_type": "code",
   "execution_count": 13,
   "id": "ab1d473f-4508-4d83-b598-f676f1357399",
   "metadata": {},
   "outputs": [],
   "source": [
    "import string\n",
    "import time, re\n",
    "import pandas as pd\n",
    "import requests\n",
    "import sys\n",
    "from tqdm import tqdm\n",
    "from bs4 import BeautifulSoup\n",
    "from markdownify import MarkdownConverter as MarkdownifyConverter\n",
    "\n",
    "from selenium import webdriver\n",
    "from selenium.webdriver.common.by import By\n",
    "from selenium.webdriver.common.keys import Keys\n",
    "from selenium.webdriver.chrome.service import Service\n",
    "from selenium.webdriver.chrome.options import Options\n",
    "from selenium.webdriver.common.action_chains import ActionChains\n",
    "from webdriver_manager.chrome import ChromeDriverManager\n",
    "from selenium.webdriver.support.ui import WebDriverWait\n",
    "from selenium.webdriver.support import expected_conditions as EC\n",
    "\n",
    "import warnings\n",
    "warnings.filterwarnings('ignore')"
   ]
  },
  {
   "cell_type": "code",
   "execution_count": 23,
   "id": "93ea85fe-3bcc-48d4-b2f7-2b9eff2bdbdc",
   "metadata": {},
   "outputs": [],
   "source": [
    "options = webdriver.ChromeOptions() \n",
    "options.add_argument(\"--start-maximized\");  # Chrome 브라우저 최대화 설정\n",
    "options.add_argument('--headless')  # headless 모드\n",
    "options.add_argument('--disable-gpu')  # 그래픽 가속 해제 (오류 방지)\n",
    "options.add_argument('--mute-audio')  # 음소거모드 적용\n",
    "options.add_experimental_option(\"excludeSwitches\", [\"enable-automation\"])\n",
    "options.add_experimental_option(\"useAutomationExtension\", False)"
   ]
  },
  {
   "cell_type": "code",
   "execution_count": 106,
   "id": "51182910-9956-46e7-bb43-5a190de63e06",
   "metadata": {},
   "outputs": [
    {
     "name": "stdin",
     "output_type": "stream",
     "text": [
      "레벨을 기입해주세요 1\n",
      "언어를 선택해주세요 mysql\n"
     ]
    }
   ],
   "source": [
    "level = int(input('레벨을 기입해주세요'))\n",
    "language = input('언어를 선택해주세요')\n",
    "MAX_CONTENT = 20"
   ]
  },
  {
   "cell_type": "code",
   "execution_count": 102,
   "id": "0b3c4aa1-fe9f-48a0-a158-a2a918c695db",
   "metadata": {},
   "outputs": [],
   "source": [
    "driver = webdriver.Chrome(service = Service(ChromeDriverManager().install()), options = options)\n",
    "page_cnt = 1\n",
    "links = []\n",
    "while True :\n",
    "    li = []\n",
    "    driver.get(f\"https://school.programmers.co.kr/learn/challenges?order=recent&levels={level}&languages={language}&page={page_cnt}\")\n",
    "    time.sleep(1)\n",
    "    \n",
    "    for i in range(1,MAX_CONTENT+1) :\n",
    "        try :\n",
    "            \n",
    "            selector = f'//*[@id=\"edu-service-app-main\"]/div/div[2]/article/div[2]/div[1]/div[5]/div/table/tbody/tr[{i}]/td[2]/div/a'\n",
    "            link_element = driver.find_element(By.XPATH, selector)\n",
    "            link = link_element.get_attribute('href')\n",
    "            li.append(link)\n",
    "        \n",
    "        except :\n",
    "            break\n",
    "    links.extend(li)\n",
    "    \n",
    "    if len(li) < MAX_CONTENT :\n",
    "        break\n",
    "            \n",
    "    page_cnt += 1"
   ]
  },
  {
   "cell_type": "code",
   "execution_count": 103,
   "id": "1a491d06-42b1-4e6d-a091-5a29b78ec63d",
   "metadata": {},
   "outputs": [
    {
     "data": {
      "text/plain": [
       "['https://school.programmers.co.kr/learn/courses/30/lessons/301646',\n",
       " 'https://school.programmers.co.kr/learn/courses/30/lessons/298517',\n",
       " 'https://school.programmers.co.kr/learn/courses/30/lessons/298516',\n",
       " 'https://school.programmers.co.kr/learn/courses/30/lessons/298515',\n",
       " 'https://school.programmers.co.kr/learn/courses/30/lessons/293259',\n",
       " 'https://school.programmers.co.kr/learn/courses/30/lessons/293258',\n",
       " 'https://school.programmers.co.kr/learn/courses/30/lessons/276013',\n",
       " 'https://school.programmers.co.kr/learn/courses/30/lessons/164673',\n",
       " 'https://school.programmers.co.kr/learn/courses/30/lessons/157343',\n",
       " 'https://school.programmers.co.kr/learn/courses/30/lessons/151138',\n",
       " 'https://school.programmers.co.kr/learn/courses/30/lessons/151136',\n",
       " 'https://school.programmers.co.kr/learn/courses/30/lessons/144853',\n",
       " 'https://school.programmers.co.kr/learn/courses/30/lessons/133025',\n",
       " 'https://school.programmers.co.kr/learn/courses/30/lessons/133024',\n",
       " 'https://school.programmers.co.kr/learn/courses/30/lessons/132203',\n",
       " 'https://school.programmers.co.kr/learn/courses/30/lessons/132201',\n",
       " 'https://school.programmers.co.kr/learn/courses/30/lessons/131697',\n",
       " 'https://school.programmers.co.kr/learn/courses/30/lessons/131535',\n",
       " 'https://school.programmers.co.kr/learn/courses/30/lessons/131528',\n",
       " 'https://school.programmers.co.kr/learn/courses/30/lessons/131114',\n",
       " 'https://school.programmers.co.kr/learn/courses/30/lessons/131112',\n",
       " 'https://school.programmers.co.kr/learn/courses/30/lessons/59415',\n",
       " 'https://school.programmers.co.kr/learn/courses/30/lessons/59407',\n",
       " 'https://school.programmers.co.kr/learn/courses/30/lessons/59405',\n",
       " 'https://school.programmers.co.kr/learn/courses/30/lessons/59404',\n",
       " 'https://school.programmers.co.kr/learn/courses/30/lessons/59403',\n",
       " 'https://school.programmers.co.kr/learn/courses/30/lessons/59039',\n",
       " 'https://school.programmers.co.kr/learn/courses/30/lessons/59037',\n",
       " 'https://school.programmers.co.kr/learn/courses/30/lessons/59036',\n",
       " 'https://school.programmers.co.kr/learn/courses/30/lessons/59035',\n",
       " 'https://school.programmers.co.kr/learn/courses/30/lessons/59034']"
      ]
     },
     "execution_count": 103,
     "metadata": {},
     "output_type": "execute_result"
    }
   ],
   "source": [
    "links"
   ]
  },
  {
   "cell_type": "code",
   "execution_count": 110,
   "id": "2905f232-c402-4f1a-ad77-2afaba70996a",
   "metadata": {},
   "outputs": [],
   "source": [
    "import subprocess\n",
    "\n",
    "# 각 URL에 대해 crawling.py 실행\n",
    "for url in links:\n",
    "    command = f'python crawling.py {url}'\n",
    "    result = subprocess.run(command, shell=True, capture_output=True, text=True)"
   ]
  }
 ],
 "metadata": {
  "kernelspec": {
   "display_name": "Python 3 (ipykernel)",
   "language": "python",
   "name": "python3"
  },
  "language_info": {
   "codemirror_mode": {
    "name": "ipython",
    "version": 3
   },
   "file_extension": ".py",
   "mimetype": "text/x-python",
   "name": "python",
   "nbconvert_exporter": "python",
   "pygments_lexer": "ipython3",
   "version": "3.12.4"
  }
 },
 "nbformat": 4,
 "nbformat_minor": 5
}
